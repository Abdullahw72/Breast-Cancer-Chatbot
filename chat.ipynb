{
 "cells": [
  {
   "cell_type": "code",
   "execution_count": 1,
   "id": "3520b997",
   "metadata": {},
   "outputs": [
    {
     "ename": "OSError",
     "evalue": "SavedModel file does not exist at: chatbotmodel.h5\\{saved_model.pbtxt|saved_model.pb}",
     "output_type": "error",
     "traceback": [
      "\u001b[1;31m---------------------------------------------------------------------------\u001b[0m",
      "\u001b[1;31mOSError\u001b[0m                                   Traceback (most recent call last)",
      "Input \u001b[1;32mIn [1]\u001b[0m, in \u001b[0;36m<cell line: 15>\u001b[1;34m()\u001b[0m\n\u001b[0;32m     13\u001b[0m words\u001b[38;5;241m=\u001b[39mpickle\u001b[38;5;241m.\u001b[39mload(\u001b[38;5;28mopen\u001b[39m(\u001b[38;5;124m'\u001b[39m\u001b[38;5;124mwords.pkl\u001b[39m\u001b[38;5;124m'\u001b[39m,\u001b[38;5;124m'\u001b[39m\u001b[38;5;124mrb\u001b[39m\u001b[38;5;124m'\u001b[39m))\n\u001b[0;32m     14\u001b[0m classes\u001b[38;5;241m=\u001b[39mpickle\u001b[38;5;241m.\u001b[39mload(\u001b[38;5;28mopen\u001b[39m(\u001b[38;5;124m'\u001b[39m\u001b[38;5;124mclasses.pkl\u001b[39m\u001b[38;5;124m'\u001b[39m,\u001b[38;5;124m'\u001b[39m\u001b[38;5;124mrb\u001b[39m\u001b[38;5;124m'\u001b[39m))\n\u001b[1;32m---> 15\u001b[0m model\u001b[38;5;241m=\u001b[39m\u001b[43mload_model\u001b[49m\u001b[43m(\u001b[49m\u001b[38;5;124;43m'\u001b[39;49m\u001b[38;5;124;43mchatbotmodel.h5\u001b[39;49m\u001b[38;5;124;43m'\u001b[39;49m\u001b[43m)\u001b[49m\n\u001b[0;32m     17\u001b[0m \u001b[38;5;28;01mdef\u001b[39;00m \u001b[38;5;21mclean_up_sentence\u001b[39m(sentence):\n\u001b[0;32m     18\u001b[0m   sentence_words\u001b[38;5;241m=\u001b[39mnltk\u001b[38;5;241m.\u001b[39mword_tokenize(sentence)\n",
      "File \u001b[1;32mD:\\Programming\\ML\\sample_project\\env\\lib\\site-packages\\keras\\saving\\save.py:205\u001b[0m, in \u001b[0;36mload_model\u001b[1;34m(filepath, custom_objects, compile, options)\u001b[0m\n\u001b[0;32m    203\u001b[0m       filepath \u001b[38;5;241m=\u001b[39m path_to_string(filepath)\n\u001b[0;32m    204\u001b[0m       \u001b[38;5;28;01mif\u001b[39;00m \u001b[38;5;28misinstance\u001b[39m(filepath, \u001b[38;5;28mstr\u001b[39m):\n\u001b[1;32m--> 205\u001b[0m         \u001b[38;5;28;01mreturn\u001b[39;00m \u001b[43msaved_model_load\u001b[49m\u001b[38;5;241;43m.\u001b[39;49m\u001b[43mload\u001b[49m\u001b[43m(\u001b[49m\u001b[43mfilepath\u001b[49m\u001b[43m,\u001b[49m\u001b[43m \u001b[49m\u001b[38;5;28;43mcompile\u001b[39;49m\u001b[43m,\u001b[49m\u001b[43m \u001b[49m\u001b[43moptions\u001b[49m\u001b[43m)\u001b[49m\n\u001b[0;32m    207\u001b[0m \u001b[38;5;28;01mraise\u001b[39;00m \u001b[38;5;167;01mIOError\u001b[39;00m(\n\u001b[0;32m    208\u001b[0m     \u001b[38;5;124m'\u001b[39m\u001b[38;5;124mUnable to load model. Filepath is not an hdf5 file (or h5py is not \u001b[39m\u001b[38;5;124m'\u001b[39m\n\u001b[0;32m    209\u001b[0m     \u001b[38;5;124m'\u001b[39m\u001b[38;5;124mavailable) or SavedModel.\u001b[39m\u001b[38;5;124m'\u001b[39m)\n",
      "File \u001b[1;32mD:\\Programming\\ML\\sample_project\\env\\lib\\site-packages\\keras\\saving\\saved_model\\load.py:108\u001b[0m, in \u001b[0;36mload\u001b[1;34m(path, compile, options)\u001b[0m\n\u001b[0;32m    103\u001b[0m \u001b[38;5;66;03m# TODO(kathywu): Add saving/loading of optimizer, compiled losses and metrics.\u001b[39;00m\n\u001b[0;32m    104\u001b[0m \u001b[38;5;66;03m# TODO(kathywu): Add code to load from objects that contain all endpoints\u001b[39;00m\n\u001b[0;32m    105\u001b[0m \n\u001b[0;32m    106\u001b[0m \u001b[38;5;66;03m# Look for metadata file or parse the SavedModel\u001b[39;00m\n\u001b[0;32m    107\u001b[0m metadata \u001b[38;5;241m=\u001b[39m saved_metadata_pb2\u001b[38;5;241m.\u001b[39mSavedMetadata()\n\u001b[1;32m--> 108\u001b[0m meta_graph_def \u001b[38;5;241m=\u001b[39m \u001b[43mtf\u001b[49m\u001b[38;5;241;43m.\u001b[39;49m\u001b[43m__internal__\u001b[49m\u001b[38;5;241;43m.\u001b[39;49m\u001b[43msaved_model\u001b[49m\u001b[38;5;241;43m.\u001b[39;49m\u001b[43mparse_saved_model\u001b[49m\u001b[43m(\u001b[49m\u001b[43mpath\u001b[49m\u001b[43m)\u001b[49m\u001b[38;5;241m.\u001b[39mmeta_graphs[\u001b[38;5;241m0\u001b[39m]\n\u001b[0;32m    109\u001b[0m object_graph_def \u001b[38;5;241m=\u001b[39m meta_graph_def\u001b[38;5;241m.\u001b[39mobject_graph_def\n\u001b[0;32m    110\u001b[0m path_to_metadata_pb \u001b[38;5;241m=\u001b[39m os\u001b[38;5;241m.\u001b[39mpath\u001b[38;5;241m.\u001b[39mjoin(path, constants\u001b[38;5;241m.\u001b[39mSAVED_METADATA_PATH)\n",
      "File \u001b[1;32mD:\\Programming\\ML\\sample_project\\env\\lib\\site-packages\\tensorflow\\python\\saved_model\\loader_impl.py:118\u001b[0m, in \u001b[0;36mparse_saved_model\u001b[1;34m(export_dir)\u001b[0m\n\u001b[0;32m    116\u001b[0m     \u001b[38;5;28;01mraise\u001b[39;00m \u001b[38;5;167;01mIOError\u001b[39;00m(\u001b[38;5;124m\"\u001b[39m\u001b[38;5;124mCannot parse file \u001b[39m\u001b[38;5;132;01m%s\u001b[39;00m\u001b[38;5;124m: \u001b[39m\u001b[38;5;132;01m%s\u001b[39;00m\u001b[38;5;124m.\u001b[39m\u001b[38;5;124m\"\u001b[39m \u001b[38;5;241m%\u001b[39m (path_to_pbtxt, \u001b[38;5;28mstr\u001b[39m(e)))\n\u001b[0;32m    117\u001b[0m \u001b[38;5;28;01melse\u001b[39;00m:\n\u001b[1;32m--> 118\u001b[0m   \u001b[38;5;28;01mraise\u001b[39;00m \u001b[38;5;167;01mIOError\u001b[39;00m(\n\u001b[0;32m    119\u001b[0m       \u001b[38;5;124m\"\u001b[39m\u001b[38;5;124mSavedModel file does not exist at: \u001b[39m\u001b[38;5;132;01m%s\u001b[39;00m\u001b[38;5;132;01m%s\u001b[39;00m\u001b[38;5;124m{\u001b[39m\u001b[38;5;132;01m%s\u001b[39;00m\u001b[38;5;124m|\u001b[39m\u001b[38;5;132;01m%s\u001b[39;00m\u001b[38;5;124m}\u001b[39m\u001b[38;5;124m\"\u001b[39m \u001b[38;5;241m%\u001b[39m\n\u001b[0;32m    120\u001b[0m       (export_dir, os\u001b[38;5;241m.\u001b[39mpath\u001b[38;5;241m.\u001b[39msep, constants\u001b[38;5;241m.\u001b[39mSAVED_MODEL_FILENAME_PBTXT,\n\u001b[0;32m    121\u001b[0m        constants\u001b[38;5;241m.\u001b[39mSAVED_MODEL_FILENAME_PB))\n",
      "\u001b[1;31mOSError\u001b[0m: SavedModel file does not exist at: chatbotmodel.h5\\{saved_model.pbtxt|saved_model.pb}"
     ]
    }
   ],
   "source": [
    "import nltk\n",
    "import random\n",
    "import numpy as np\n",
    "import json\n",
    "import pickle\n",
    "from nltk.stem import WordNetLemmatizer\n",
    "from tensorflow.keras.models import load_model\n",
    "lemmatizer=WordNetLemmatizer()\n",
    "\n",
    "with open('breastCancer.json') as json_file:\n",
    "    intents = json.load(json_file)\n",
    "\n",
    "words=pickle.load(open('words.pkl','rb'))\n",
    "classes=pickle.load(open('classes.pkl','rb'))\n",
    "model=load_model('chatbotmodel.h5')\n",
    "\n",
    "def clean_up_sentence(sentence):\n",
    "  sentence_words=nltk.word_tokenize(sentence)\n",
    "  sentence_words=[lemmatizer.lemmatize(word) for word in sentence_words]\n",
    "  return sentence_words\n",
    "\n",
    "def bag_of_words(sentence):\n",
    "  sentence_words=clean_up_sentence(sentence)\n",
    "  bag=[0]*len(words)\n",
    "  for w in sentence_words:\n",
    "    for i,word in enumerate(words):\n",
    "      if word == w:\n",
    "        bag[i]=1\n",
    "  return np.array(bag)\n",
    "\n",
    "def predict_class(sentence):\n",
    "  bow=bag_of_words(sentence)\n",
    "  res=model.predict(np.array([bow]))[0]\n",
    "  ERROR_THRESHOLD=0.25\n",
    "  results=[[i,r] for i,r in enumerate(res) if r> ERROR_THRESHOLD]\n",
    "  results.sort(key=lambda x:x[1],reverse=True)\n",
    "  return_list=[]\n",
    "  for r in results:\n",
    "    return_list.append({'intent': classes[r[0]],'probability':str(r[1])})\n",
    "  return return_list\n",
    "\n",
    "def get_response(intents_list,intents_json):\n",
    "    result = None\n",
    "    tag=intents_list[0]['intent']\n",
    "    print(intents_list[0])\n",
    "    list_of_intents=intents_json['intents']\n",
    "    for i in list_of_intents:\n",
    "        if tag in i['tags']:\n",
    "            result=i['responses']\n",
    "            break\n",
    "    return result\n",
    "\n",
    "print(\"GO! BOT IS RUNNING\")\n",
    "\n",
    "while True:\n",
    "    message=input(\"\")\n",
    "    ints=predict_class(message)\n",
    "    if len(ints) > 0:\n",
    "        res=get_response(ints,intents)\n",
    "        print(res)"
   ]
  },
  {
   "cell_type": "code",
   "execution_count": null,
   "id": "5bf84de6",
   "metadata": {},
   "outputs": [],
   "source": []
  }
 ],
 "metadata": {
  "kernelspec": {
   "display_name": "Python 3",
   "language": "python",
   "name": "python3"
  },
  "language_info": {
   "codemirror_mode": {
    "name": "ipython",
    "version": 3
   },
   "file_extension": ".py",
   "mimetype": "text/x-python",
   "name": "python",
   "nbconvert_exporter": "python",
   "pygments_lexer": "ipython3",
   "version": "3.9.12"
  }
 },
 "nbformat": 4,
 "nbformat_minor": 5
}
